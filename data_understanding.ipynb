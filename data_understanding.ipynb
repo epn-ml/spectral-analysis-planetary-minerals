{
 "cells": [
  {
   "cell_type": "code",
   "execution_count": null,
   "id": "410da365-2e18-4908-8b0e-5c36f44bf966",
   "metadata": {},
   "outputs": [],
   "source": [
    "import os\n",
    "import json\n",
    "import pandas as pd\n",
    "import plotly.express as px\n",
    "import plotly.graph_objects as go\n",
    "\n",
    "import numpy as np\n",
    "from scipy.interpolate import RBFInterpolator, InterpolatedUnivariateSpline\n",
    "# from sklearn.metrics import mean_squared_error\n",
    "from sklearn.decomposition import PCA\n",
    "\n",
    "import more_itertools as mit\n",
    "import itertools\n",
    "\n",
    "from sklearn.ensemble import RandomForestRegressor\n",
    "from sklearn.model_selection import train_test_split\n",
    "from sklearn.multioutput import MultiOutputRegressor\n",
    "from xgboost import XGBRegressor\n",
    "\n",
    "# pd.set_option('display.max_colwidth', None)\n",
    "data_folder = 'INAF_case_data'"
   ]
  },
  {
   "cell_type": "markdown",
   "id": "46f574c4-9971-487d-98f5-7a33e81161ac",
   "metadata": {},
   "source": [
    "# 0. Read and Combine files from all folders"
   ]
  },
  {
   "cell_type": "code",
   "execution_count": null,
   "id": "c738afcd-2d19-413f-8f6a-362c5e5e7861",
   "metadata": {
    "scrolled": true
   },
   "outputs": [],
   "source": [
    "folders = ['learning', 'test', 'slab']\n",
    "df = pd.DataFrame()\n",
    "for folder in folders:\n",
    "    learning_folder = os.path.join(data_folder, folder)\n",
    "    for json_file in os.listdir(learning_folder):\n",
    "        # print(json_file)\n",
    "        file_name = os.path.join(learning_folder, json_file)\n",
    "        with open(file_name) as f:\n",
    "            content = json.load(f)\n",
    "            a = pd.DataFrame(content.items(), columns=['key', 'values'])\n",
    "            b = a[a['key']=='spectrum']['values']\n",
    "            b = b.apply(pd.Series)\n",
    "            b['file'] = json_file\n",
    "            b['folder'] = folder\n",
    "\n",
    "            c = a[a['key']=='abundances']['values']\n",
    "            if not c.empty:\n",
    "                if c.values:\n",
    "                    b['abundances'] = c.values\n",
    "            df = pd.concat([df, b], ignore_index=True)\n",
    "\n",
    "df['abundances_len'] = df['abundances'].apply(lambda x: len(x) if isinstance(x, list) else 0)\n",
    "df['label'] = df['abundances_len']>0"
   ]
  },
  {
   "cell_type": "code",
   "execution_count": null,
   "id": "22c04aa8-4c83-4259-8004-c9ae79bb5f8c",
   "metadata": {},
   "outputs": [],
   "source": [
    "df.head()"
   ]
  },
  {
   "cell_type": "code",
   "execution_count": null,
   "id": "d48c21eb-967b-4dec-be76-4ddb1b000b11",
   "metadata": {},
   "outputs": [],
   "source": [
    "df['file'].nunique()"
   ]
  },
  {
   "cell_type": "code",
   "execution_count": null,
   "id": "b5bef056-3799-404c-82d6-80d90513bd14",
   "metadata": {},
   "outputs": [],
   "source": [
    "cols = ['folder', 'file', 'wavelength', 'reflectance', 'error', 'abundances']\n",
    "df[cols]"
   ]
  },
  {
   "cell_type": "code",
   "execution_count": null,
   "id": "75fa7dbc-73ad-41bc-8263-fd996e6e0ac5",
   "metadata": {},
   "outputs": [],
   "source": [
    "content.keys()"
   ]
  },
  {
   "cell_type": "code",
   "execution_count": null,
   "id": "c7eca1d2-7aec-4c12-8f6d-0ef4f03ff2b1",
   "metadata": {},
   "outputs": [],
   "source": [
    "content['spectrum'].keys()"
   ]
  },
  {
   "cell_type": "markdown",
   "id": "6c8c2148-2470-4839-91ab-7d9d31f8ed37",
   "metadata": {},
   "source": [
    "# 1. Labels"
   ]
  },
  {
   "cell_type": "markdown",
   "id": "c427494b-3d19-432d-8a0f-73082c8d81d2",
   "metadata": {},
   "source": [
    "## 1.1."
   ]
  },
  {
   "cell_type": "code",
   "execution_count": null,
   "id": "57554e1e-0842-4521-9501-5e2073b1780e",
   "metadata": {},
   "outputs": [],
   "source": [
    "a = df.groupby('folder')['label'].value_counts().reset_index()\n",
    "fig = px.bar(a, x='folder', y='count', color='label', barmode='group', text_auto=True,\n",
    "             title='#labels in each folder', width=400\n",
    "            )\n",
    "fig.show()"
   ]
  },
  {
   "cell_type": "code",
   "execution_count": null,
   "id": "31812eb0-4308-4848-baa7-b4e2109c37f2",
   "metadata": {},
   "outputs": [],
   "source": [
    "px.histogram(df, x='abundances_len', color='folder', text_auto=True,\n",
    "             width=550, height=550,\n",
    "             title='Length of Abundances'\n",
    "            )"
   ]
  },
  {
   "cell_type": "code",
   "execution_count": null,
   "id": "c210059f-efbc-4560-840a-4c05a33c77e9",
   "metadata": {},
   "outputs": [],
   "source": [
    "df[~df['label']].shape, df[df['label']].shape"
   ]
  },
  {
   "cell_type": "markdown",
   "id": "1d2a21ab-f81a-45b1-bcb3-6db781d1904c",
   "metadata": {},
   "source": [
    "## 1.2"
   ]
  },
  {
   "cell_type": "code",
   "execution_count": null,
   "id": "7072e165-8dfa-4c28-a836-146ec85e0948",
   "metadata": {},
   "outputs": [],
   "source": [
    "# check sum of % if 100\n",
    "a = df[(df['abundances_len']>0) & (7>df['abundances_len'])].copy() #151 files\n",
    "a['100%'] = a['abundances'].apply(lambda x: sum(i['percentage'] for i in x)==100)\n",
    "b = a[~a['100%']] # 11 files\n",
    "b.head()"
   ]
  },
  {
   "cell_type": "code",
   "execution_count": null,
   "id": "8193c17c-8bcd-4a69-9a68-5a9814f02b0c",
   "metadata": {},
   "outputs": [],
   "source": [
    "b[['folder', 'file', 'abundances']]"
   ]
  },
  {
   "cell_type": "markdown",
   "id": "1b8f871a-239d-4e30-a293-bf0daa5d2546",
   "metadata": {},
   "source": [
    "## 1.3. Remove wrong labels"
   ]
  },
  {
   "cell_type": "code",
   "execution_count": null,
   "id": "23c19b01-8f4f-453f-b4ec-eda6add4c35f",
   "metadata": {},
   "outputs": [],
   "source": [
    "# duplicated phase name inside each sample?\n",
    "# eliminate above 11 files from next check\n",
    "c = a[a['100%']].copy() # 140 files\n",
    "c['dup_label'] = c['abundances'].apply(lambda x: len(x)!=len(set(i['mineral_phase_name'] for i in x))\n",
    "                         )\n",
    "tmp = c[c['dup_label']][['folder', 'file', 'abundances']]\n",
    "tmp\n",
    "# for i, j in zip(c['abundances'], [])"
   ]
  },
  {
   "cell_type": "code",
   "execution_count": null,
   "id": "c4ed6a96-1818-43d3-b7a4-14801b551419",
   "metadata": {},
   "outputs": [],
   "source": [
    "tmp['abundances'].tolist()"
   ]
  },
  {
   "cell_type": "markdown",
   "id": "a99c46d2-b1db-42b5-a6f1-13311345c5ec",
   "metadata": {},
   "source": [
    "## 1.4. Filter Training Set (139 files)"
   ]
  },
  {
   "cell_type": "code",
   "execution_count": null,
   "id": "f5cc1cb9-63f2-405c-a849-73f79f2bc1ad",
   "metadata": {},
   "outputs": [],
   "source": [
    "# check how many phases in total and what they are\n",
    "d = c[~c['dup_label']].copy() # 139 files\n",
    "d['phase_name'] = d['abundances'].apply(lambda x: [i['mineral_phase_name'] for i in x])\n",
    "d.head()"
   ]
  },
  {
   "cell_type": "code",
   "execution_count": null,
   "id": "b177f622-b4b1-4f52-8842-b0e6cfd76a05",
   "metadata": {},
   "outputs": [],
   "source": [
    "import itertools\n",
    "e = pd.Series(itertools.chain.from_iterable(d['phase_name'].tolist())).value_counts()\n",
    "px.bar(e, width=600, title='mineral_name_phase counts', text_auto=True)"
   ]
  },
  {
   "cell_type": "code",
   "execution_count": null,
   "id": "797454f6-e8eb-4490-9749-ecff0bdef066",
   "metadata": {},
   "outputs": [],
   "source": [
    "d['combined_name'] = d['phase_name'].apply(lambda x: '_'.join(sorted(x)))\n",
    "e = d['combined_name'].value_counts()\n",
    "fig = px.bar(e, width=700, \n",
    "       title='combined name counts', text_auto=True,\n",
    "       height=450,\n",
    "      )\n",
    "fig. update(layout_showlegend=False)\n",
    "fig.show()"
   ]
  },
  {
   "cell_type": "code",
   "execution_count": null,
   "id": "c7619adc-7b5c-4308-86aa-9667601131c0",
   "metadata": {},
   "outputs": [],
   "source": [
    "e = d[['combined_name', 'folder']].value_counts().reset_index()\n",
    "fig = px.bar(e, width=700, x='combined_name', y='count',\n",
    "       title='combined name counts', text_auto=True, color='folder',\n",
    "       height=450,\n",
    "      )\n",
    "# fig.update_layout(showlegend=False)\n",
    "fig.show()"
   ]
  },
  {
   "cell_type": "markdown",
   "id": "94348bbd-8a20-4354-b38e-eed3dd7c2091",
   "metadata": {},
   "source": [
    "### Plot the labels"
   ]
  },
  {
   "cell_type": "code",
   "execution_count": null,
   "id": "83494008-ccec-46f0-8173-55362187eda8",
   "metadata": {},
   "outputs": [],
   "source": [
    "labels = d['combined_name'].unique()\n",
    "color_list = px.colors.qualitative.Dark24\n",
    "\n",
    "fig = go.Figure()\n",
    "for idx, label in enumerate(labels):\n",
    "    \n",
    "    df_label = d[d['combined_name']==label]\n",
    "    cnt = 0\n",
    "    showlegend = True\n",
    "    for i, row in df_label.iterrows():\n",
    "        x = row['wavelength']\n",
    "        y = row['reflectance']\n",
    "        if cnt > 0:\n",
    "            showlegend = False\n",
    "        fig.add_trace(go.Line(x=x, y=y, marker_color=color_list[idx],\n",
    "                              legendgroup=label,\n",
    "                              showlegend=showlegend,\n",
    "                              name=row['combined_name'],\n",
    "                              \n",
    "                             )\n",
    "                     )\n",
    "        cnt += 1\n",
    "\n",
    "fig.update_xaxes(range=[280, 2750], title='wavelength')\n",
    "fig.update_yaxes(range=[0, 1], title='reflectance')\n",
    "fig.update_layout(height=800)\n",
    "fig.show()"
   ]
  },
  {
   "cell_type": "code",
   "execution_count": null,
   "id": "2256277b-9c24-488f-b10d-8d3e196bd196",
   "metadata": {},
   "outputs": [],
   "source": [
    "df['wavelength'] = df['wavelength'].apply(lambda x: [int(i) for i in x])\n",
    "df['missed_wavelength'] = [sorted(list(set(range(280, 2701))- set(i))) if j=='learning' else sorted(list(set(range(350, 2501))- set(i)))\n",
    "                          for i, j in zip(df['wavelength'], df['folder'])]\n",
    "df['missed_wavelength_len'] = df['missed_wavelength'].apply(len)\n",
    "\n",
    "df['missed_wavelength_range'] = df['missed_wavelength'].apply(lambda a: \n",
    "                                                             [[min(i), max(i)] if len(i)>2 else i for i in [list(group) for group in mit.consecutive_groups(a)]])\n",
    "df['missed_wavelength_range_len'] = df['missed_wavelength_range'].apply(len)\n",
    "df['missed_wavelength_range_len2'] = df['missed_wavelength_range'].apply(lambda x: [i for i in x if len(i)>1])\n",
    "df['missed_wavelength_range_len2_str'] = df['missed_wavelength_range_len2'].apply(lambda x: '|'.join([f'{str(i[0])}_{str(i[1])}' for i in x]))\n",
    "df['missed_wavelength_range_len2_cnt'] = df['missed_wavelength_range'].apply(lambda x: len([i for i in x if len(i)>1]))\n",
    "df.head()"
   ]
  },
  {
   "cell_type": "code",
   "execution_count": null,
   "id": "f66960e5-dc06-4f21-a07c-246bfc7ba115",
   "metadata": {},
   "outputs": [],
   "source": [
    "a = df[df['missed_wavelength_range_len2_str']!=''].copy()\n",
    "a = a.groupby('missed_wavelength_range_len2_str')['folder'].value_counts().reset_index()\n",
    "a = a.sort_values('missed_wavelength_range_len2_str')\n",
    "px.bar(a, x='missed_wavelength_range_len2_str', y='count', color='folder',\n",
    "       width=1000, text_auto=True,\n",
    "       title='Count of missing ranges of wavelength'\n",
    "      )"
   ]
  },
  {
   "cell_type": "code",
   "execution_count": null,
   "id": "1c4fb6c7-fa76-4d18-879f-bce7e19f022d",
   "metadata": {},
   "outputs": [],
   "source": [
    "df['missed_wavelength_len'].value_counts()"
   ]
  },
  {
   "cell_type": "code",
   "execution_count": null,
   "id": "7b2520de-07d2-4a7b-9584-51e1ac9b654b",
   "metadata": {},
   "outputs": [],
   "source": [
    "missed_wavelength_range_len2_cnt = df['missed_wavelength_range_len2_cnt'].value_counts()\n",
    "missed_wavelength_range_len2_cnt"
   ]
  },
  {
   "cell_type": "code",
   "execution_count": null,
   "id": "caaa2897-c5ca-473b-9c79-29d732123930",
   "metadata": {},
   "outputs": [],
   "source": [
    "for cnt in sorted(missed_wavelength_range_len2_cnt.index):\n",
    "    print(f'{cnt} range(s) in missing wavelengths')\n",
    "    print(df[df['missed_wavelength_range_len2_cnt']==cnt]['missed_wavelength_len'].value_counts())\n",
    "    print('========================')"
   ]
  },
  {
   "cell_type": "code",
   "execution_count": null,
   "id": "362bea61-1a58-4690-81b0-8875d7a31cbc",
   "metadata": {},
   "outputs": [],
   "source": [
    "range_list = {}\n",
    "for i in df['missed_wavelength_range_len2']:\n",
    "    for j in i:\n",
    "        name = '_'.join([str(item) for item in j])\n",
    "        # if name not in range_list:\n",
    "        range_list[name] = range_list.get(name, 0) + 1\n",
    "range_list = pd.DataFrame.from_dict(range_list, orient='index')\n",
    "range_list.columns = ['count']\n",
    "range_list = range_list.sort_values('count', ascending=False)\n",
    "range_list.reset_index(inplace=True)\n",
    "range_list['#missing'] = range_list['index'].apply(lambda x: int(x.split('_')[1]) - int(x.split('_')[0])+1)\n",
    "range_list = range_list.sort_values('#missing', ascending=False).reset_index(drop=True)\n",
    "range_list"
   ]
  },
  {
   "cell_type": "code",
   "execution_count": null,
   "id": "f4f03866-f81b-4a3d-a197-f91a7d90f473",
   "metadata": {
    "scrolled": true
   },
   "outputs": [],
   "source": [
    "labels = d['combined_name'].unique()\n",
    "x_learning = range(280, 2701)\n",
    "x_slab = range(350, 2501)\n",
    "\n",
    "for idx, label in enumerate(labels):\n",
    "    fig = go.Figure()    \n",
    "    df_label = d[d['combined_name']==label]\n",
    "    for i, row in df_label.iterrows():\n",
    "        x = row['wavelength']\n",
    "        y = row['reflectance']\n",
    "        fig.add_trace(go.Line(x=x, y=y, marker_color='DarkSlateGrey',\n",
    "                              showlegend=False,\n",
    "                             )\n",
    "                     )\n",
    "    fig.update_layout(title=label, width=800)\n",
    "    fig.update_xaxes(range=[280, 2750], title='wavelength')\n",
    "    fig.update_yaxes(range=[0, 1], title='reflectance')\n",
    "    fig.show()"
   ]
  },
  {
   "cell_type": "markdown",
   "id": "f234675b-01c4-425b-93c5-653c5fac4b84",
   "metadata": {},
   "source": [
    "# 2. Spectrum - Wavelength"
   ]
  },
  {
   "cell_type": "code",
   "execution_count": null,
   "id": "5ac131f2-f5e1-42fa-bd1e-3d37fb947913",
   "metadata": {},
   "outputs": [],
   "source": [
    "d['folder'].value_counts()"
   ]
  },
  {
   "cell_type": "code",
   "execution_count": null,
   "id": "83575e3b-51d1-4861-8c6f-9eb647f2318e",
   "metadata": {},
   "outputs": [],
   "source": [
    "d.dtypes"
   ]
  },
  {
   "cell_type": "code",
   "execution_count": null,
   "id": "e58b8d75-52ff-4d96-8761-b831f9d02108",
   "metadata": {},
   "outputs": [],
   "source": [
    "import itertools\n",
    "e = pd.Series(itertools.chain.from_iterable(d['wavelength'].tolist())).value_counts()\n",
    "e.index = e.index.astype(int)\n",
    "px.bar(e, #width=600, \n",
    "       title='wavelengths counts', \n",
    "       text_auto=True)"
   ]
  },
  {
   "cell_type": "code",
   "execution_count": null,
   "id": "63f305ca-2c0b-420b-9ce8-88a48a6289f5",
   "metadata": {},
   "outputs": [],
   "source": [
    "e.index.min(), e.index.max()"
   ]
  },
  {
   "cell_type": "code",
   "execution_count": null,
   "id": "dbbd0357-c0e3-40d7-9969-2a0d83aef354",
   "metadata": {},
   "outputs": [],
   "source": [
    "2700-279-2394"
   ]
  },
  {
   "cell_type": "code",
   "execution_count": null,
   "id": "cc41ffb6-2420-4473-9a55-f7e00e9000be",
   "metadata": {},
   "outputs": [],
   "source": [
    "e.sort_index()"
   ]
  },
  {
   "cell_type": "code",
   "execution_count": null,
   "id": "cd6b5c1c-3182-430f-8ccf-7665d96c4548",
   "metadata": {},
   "outputs": [],
   "source": [
    "e.value_counts().sort_index()"
   ]
  },
  {
   "cell_type": "code",
   "execution_count": null,
   "id": "0d520dec-f2ab-48dd-97bf-f1a352e7cb0f",
   "metadata": {},
   "outputs": [],
   "source": [
    "f = df[~df['label']].copy()\n",
    "f.shape"
   ]
  },
  {
   "cell_type": "code",
   "execution_count": null,
   "id": "aab27e67-db73-40e7-82c0-f4b0fffa3e1c",
   "metadata": {},
   "outputs": [],
   "source": [
    "import itertools\n",
    "e = pd.Series(itertools.chain.from_iterable(f['wavelength'].tolist())).value_counts()\n",
    "e.index = e.index.astype(int)\n",
    "px.bar(e, #width=600, \n",
    "       title='wavelengths counts in unlabeled sets',\n",
    "       text_auto=True)"
   ]
  },
  {
   "cell_type": "code",
   "execution_count": null,
   "id": "5a9f6c0f-90ba-4a47-a62f-e159747d124e",
   "metadata": {},
   "outputs": [],
   "source": [
    "e.index.min(), e.index.max()"
   ]
  },
  {
   "cell_type": "code",
   "execution_count": null,
   "id": "236b6591-44b0-47f4-848d-468b65ae57fe",
   "metadata": {
    "scrolled": true
   },
   "outputs": [],
   "source": [
    "e.sort_index()"
   ]
  },
  {
   "cell_type": "code",
   "execution_count": null,
   "id": "e78d61a0-b0fc-4cc3-be7a-861a62aff6fa",
   "metadata": {},
   "outputs": [],
   "source": [
    "f['folder'].value_counts()"
   ]
  },
  {
   "cell_type": "markdown",
   "id": "55838241-9d65-4935-8375-4769bdfb2f61",
   "metadata": {},
   "source": [
    "# 3. reflectance"
   ]
  },
  {
   "cell_type": "code",
   "execution_count": null,
   "id": "28976918-cef6-4be4-a3e0-662b15d9ae5a",
   "metadata": {},
   "outputs": [],
   "source": [
    "d.columns"
   ]
  },
  {
   "cell_type": "code",
   "execution_count": null,
   "id": "439f3645-1fdc-407b-a4a2-e8075a94e453",
   "metadata": {},
   "outputs": [],
   "source": [
    "e = pd.Series(itertools.chain.from_iterable(d['reflectance'].tolist()))\n",
    "e.min(), e.max()"
   ]
  },
  {
   "cell_type": "code",
   "execution_count": null,
   "id": "11c7bd66-fe97-4679-9bd5-fb0cdc92dc4f",
   "metadata": {},
   "outputs": [],
   "source": [
    "e = pd.Series(itertools.chain.from_iterable(f['reflectance'].tolist()))\n",
    "e.min(), e.max()"
   ]
  },
  {
   "cell_type": "code",
   "execution_count": null,
   "id": "bc16ec3d-0c19-47d5-9710-c3d5828a25f8",
   "metadata": {},
   "outputs": [],
   "source": [
    "df['wave_refl_len'] = df['wavelength'].apply(len)==df['reflectance'].apply(len)\n",
    "df[~df['wave_refl_len']]"
   ]
  },
  {
   "cell_type": "code",
   "execution_count": null,
   "id": "9116dda3-bea4-43c8-aa47-1be9809afd14",
   "metadata": {},
   "outputs": [],
   "source": [
    "# length of wavelengths and reflectance?\n",
    "df.wavelength.apply(len)"
   ]
  },
  {
   "cell_type": "code",
   "execution_count": null,
   "id": "27ea50b8-cd5d-4493-9779-ff1082a10684",
   "metadata": {},
   "outputs": [],
   "source": [
    "df.groupby('folder')['wavelength'].apply(len)"
   ]
  },
  {
   "cell_type": "markdown",
   "id": "75e847be-19e5-44c3-875c-facc53dc91e1",
   "metadata": {},
   "source": [
    "# 4. Error"
   ]
  },
  {
   "cell_type": "code",
   "execution_count": null,
   "id": "f10f86d1-931d-4ce0-9946-bad477ba15d3",
   "metadata": {},
   "outputs": [],
   "source": [
    "df['wavelength_len'] = df['wavelength'].apply(len)\n",
    "df['reflectance_len'] = df['reflectance'].apply(len)\n",
    "df['error_len'] = df['error'].apply(len)\n",
    "df"
   ]
  },
  {
   "cell_type": "code",
   "execution_count": null,
   "id": "6079f480-312b-4e1f-a8ba-f622500a98fa",
   "metadata": {},
   "outputs": [],
   "source": [
    "df[(df['wavelength_len']!=df['reflectance_len']) | (df['wavelength_len']!=df['error_len']) | (df['reflectance_len']!=df['error_len'])]"
   ]
  },
  {
   "cell_type": "code",
   "execution_count": null,
   "id": "b6f3224c-b4b2-4d5d-b64b-1f930bc89ce2",
   "metadata": {},
   "outputs": [],
   "source": [
    "a = df.groupby(['folder', 'wavelength_len'])['error_len'].count()#.reset_index()\n",
    "a"
   ]
  },
  {
   "cell_type": "code",
   "execution_count": null,
   "id": "0730aa24-a1fc-4765-86b5-2e4d2b8e09a3",
   "metadata": {},
   "outputs": [],
   "source": [
    "b = a.reset_index()\n",
    "b = b.rename(columns={'error_len': 'count'})\n",
    "b = b.sort_values('wavelength_len')\n",
    "b['wavelength_len'] = b['wavelength_len'].astype(str)\n",
    "b"
   ]
  },
  {
   "cell_type": "code",
   "execution_count": null,
   "id": "394f84eb-d5d4-4378-ab54-3019145d6696",
   "metadata": {},
   "outputs": [],
   "source": [
    "fig = px.bar(b, x='wavelength_len', y='count', color='folder', #barmode='group'\n",
    "             text_auto=True, height=900, width=800,\n",
    "             title='count of wavelength in each dataset'\n",
    "            )\n",
    "fig.show()"
   ]
  },
  {
   "cell_type": "markdown",
   "id": "bcf69aac-27e8-4768-95d8-e099255c1e92",
   "metadata": {},
   "source": [
    "# 5. Wavelength vs. Reflectance"
   ]
  },
  {
   "cell_type": "code",
   "execution_count": null,
   "id": "179de3c9-42d2-43c9-acde-ad3eb1889775",
   "metadata": {},
   "outputs": [],
   "source": [
    "df_scatter = pd.DataFrame()\n",
    "for folder in ['learning', 'slab', 'test']:\n",
    "    a = pd.Series(itertools.chain.from_iterable(df[df['folder']==folder]['wavelength']))\n",
    "    b = pd.Series(itertools.chain.from_iterable(df[df['folder']==folder]['reflectance']))\n",
    "    test = pd.concat([a, b], axis=1)\n",
    "    test.columns = ['wavelength', 'reflectance']\n",
    "    test['folder'] = folder\n",
    "    df_scatter = pd.concat([df_scatter, test])\n",
    "                                              \n",
    "df_scatter"
   ]
  },
  {
   "cell_type": "code",
   "execution_count": null,
   "id": "412a52de-0fef-4449-8e6f-ea04b7180eb5",
   "metadata": {},
   "outputs": [],
   "source": [
    "df_scatter.groupby('folder').agg(['min', 'max'])"
   ]
  },
  {
   "cell_type": "code",
   "execution_count": null,
   "id": "4cf05b01-02db-47f1-af80-085edaae2485",
   "metadata": {},
   "outputs": [],
   "source": [
    "fig = px.scatter(df_scatter, x='wavelength', y='reflectance', color='folder',\n",
    "                 opacity=0.5\n",
    "                )\n",
    "fig.update_traces(marker=dict(size=.8,\n",
    "                              # line=dict(width=2,\n",
    "                              #           color='DarkSlateGrey'\n",
    "                                       )\n",
    "                             ),\n",
    "fig.show()"
   ]
  },
  {
   "cell_type": "code",
   "execution_count": null,
   "id": "922cb866-0351-47ef-abbd-52c1a83ceea7",
   "metadata": {},
   "outputs": [],
   "source": [
    "folder = 'test'\n",
    "data_plot = df_scatter[df_scatter['folder']==folder]\n",
    "fig = px.scatter(data_plot, x='wavelength', y='reflectance', color='folder', title=folder)\n",
    "fig.update_layout(yaxis_range=[0, 1], xaxis_range=[280, 2750])\n",
    "fig.update_traces(marker=dict(size=.8))\n",
    "fig.show()"
   ]
  },
  {
   "cell_type": "code",
   "execution_count": null,
   "id": "17125b48-fda8-4253-8e7e-8ed5ed97cd0a",
   "metadata": {},
   "outputs": [],
   "source": [
    "folder = 'learning'\n",
    "data_plot = df_scatter[df_scatter['folder']==folder]\n",
    "fig = px.scatter(data_plot, x='wavelength', y='reflectance', color='folder', title=folder)\n",
    "fig.update_layout(yaxis_range=[0, 1], xaxis_range=[280, 2750])\n",
    "fig.update_traces(marker=dict(size=.8))\n",
    "fig.show()"
   ]
  },
  {
   "cell_type": "code",
   "execution_count": null,
   "id": "067068f3-ae7a-4729-9972-288e0ce2871c",
   "metadata": {},
   "outputs": [],
   "source": [
    "folder = 'slab'\n",
    "data_plot = df_scatter[df_scatter['folder']==folder]\n",
    "fig = px.scatter(data_plot, x='wavelength', y='reflectance', color='folder', title=folder)\n",
    "fig.update_layout(yaxis_range=[0, 1], xaxis_range=[280, 2750])\n",
    "fig.update_traces(marker=dict(size=.8))\n",
    "fig.show()"
   ]
  },
  {
   "cell_type": "markdown",
   "id": "45797064-0b74-43a4-8ad6-037b08638861",
   "metadata": {},
   "source": [
    "# Data Transformation"
   ]
  },
  {
   "cell_type": "code",
   "execution_count": null,
   "id": "ab66c18c-a149-41ec-b0ef-4e1aac14e3e8",
   "metadata": {},
   "outputs": [],
   "source": [
    "d.drop(['label', '100%', 'dup_label'], axis=1, inplace=True)\n",
    "d"
   ]
  },
  {
   "cell_type": "markdown",
   "id": "036ab8e7-3cfd-4462-879c-372db28409cc",
   "metadata": {},
   "source": [
    "## Features"
   ]
  },
  {
   "cell_type": "code",
   "execution_count": null,
   "id": "453c3cf0-e722-4b93-a575-58a500734431",
   "metadata": {
    "scrolled": true
   },
   "outputs": [],
   "source": [
    "d['wavelength_len'] = d['wavelength'].apply(len)\n",
    "d"
   ]
  },
  {
   "cell_type": "code",
   "execution_count": null,
   "id": "604b16e3-0d86-4f29-8ef9-2212b7866ad1",
   "metadata": {
    "scrolled": true
   },
   "outputs": [],
   "source": [
    "# duplicate wavelength in each sample?\n",
    "d['wavelength_len_2'] = d['wavelength'].apply(lambda x: len(set(x)))\n",
    "d[d['wavelength_len_2']!=d['wavelength_len']]"
   ]
  },
  {
   "cell_type": "code",
   "execution_count": null,
   "id": "386390a8-11ce-46b4-b949-14c167afb54b",
   "metadata": {
    "scrolled": true
   },
   "outputs": [],
   "source": [
    "# convert to int\n",
    "d['wavelength'] = d['wavelength'].apply(lambda x: [int(i) for i in x])\n",
    "d.head()"
   ]
  },
  {
   "cell_type": "code",
   "execution_count": null,
   "id": "dad17d5a-9a64-4222-8ada-474ca37040cb",
   "metadata": {},
   "outputs": [],
   "source": [
    "d['missed_wavelength'] = [sorted(list(set(range(280, 2701))- set(i))) if j=='learning' else sorted(list(set(range(350, 2501))- set(i)))\n",
    "                          for i, j in zip(d['wavelength'], d['folder'])]\n",
    "d['missed_wavelength_len'] = d['missed_wavelength'].apply(len)\n",
    "\n",
    "\n",
    "a = d.groupby('folder')['missed_wavelength_len'].value_counts().reset_index()\n",
    "a['missed_wavelength_len'] = a['missed_wavelength_len'].astype(str)\n",
    "a.sort_values('missed_wavelength_len', inplace=True)\n",
    "px.bar(a, x='missed_wavelength_len', y='count', color='folder', text_auto=True, width=650)"
   ]
  },
  {
   "cell_type": "code",
   "execution_count": null,
   "id": "a9dc2340-9fce-407e-b87a-9e1b2fcbe959",
   "metadata": {},
   "outputs": [],
   "source": [
    "a"
   ]
  },
  {
   "cell_type": "code",
   "execution_count": null,
   "id": "c9cbd76d-6402-48ca-8e23-5b4f3b86fdfe",
   "metadata": {
    "scrolled": true
   },
   "outputs": [],
   "source": [
    "missing_cnt = a[a['count']>1]['missed_wavelength_len'].values[1:]\n",
    "missing_list = {}\n",
    "for missing in missing_cnt:\n",
    "    tmp = d[d['missed_wavelength_len'].astype(str)==missing]['missed_wavelength']\n",
    "    excluded = set(tmp.iloc[0])\n",
    "    for i in tmp[1:]:\n",
    "        excluded -= set(i)\n",
    "    missing_list[missing] = excluded\n",
    "missing_list"
   ]
  },
  {
   "cell_type": "code",
   "execution_count": null,
   "id": "d79c1c10-b1c3-4d59-afe2-98d780c44813",
   "metadata": {},
   "outputs": [],
   "source": [
    "df['wavelength'] = df['wavelength'].apply(lambda x: [int(i) for i in x])\n",
    "df['missed_wavelength'] = [sorted(list(set(range(280, 2701))- set(i))) if j=='learning' else sorted(list(set(range(350, 2501))- set(i)))\n",
    "                          for i, j in zip(df['wavelength'], df['folder'])]\n",
    "df['missed_wavelength_len'] = df['missed_wavelength'].apply(len)\n",
    "\n",
    "\n",
    "a = df.groupby('folder')['missed_wavelength_len'].value_counts().reset_index()\n",
    "a.sort_values('missed_wavelength_len', inplace=True)\n",
    "a['missed_wavelength_len'] = a['missed_wavelength_len'].astype(str)\n",
    "\n",
    "px.bar(a, x='missed_wavelength_len', y='count', color='folder', \n",
    "       text_auto=True, width=650)"
   ]
  },
  {
   "cell_type": "code",
   "execution_count": null,
   "id": "c5835450-2bfc-44dc-9db3-d461cbf3ec20",
   "metadata": {},
   "outputs": [],
   "source": [
    "missing_cnt = a[a['count']>1]['missed_wavelength_len'].values[1:]\n",
    "missing_list = {}\n",
    "for missing in missing_cnt:\n",
    "    tmp = df[df['missed_wavelength_len'].astype(str)==missing]['missed_wavelength']\n",
    "    excluded = set(tmp.iloc[0])\n",
    "    for i in tmp[1:]:\n",
    "        excluded -= set(i)\n",
    "    missing_list[missing] = excluded\n",
    "missing_list"
   ]
  },
  {
   "cell_type": "code",
   "execution_count": null,
   "id": "061b8b2a-5ff6-409d-89d9-20a4c4d16afc",
   "metadata": {},
   "outputs": [],
   "source": [
    "# train set\n",
    "a = pd.Series(itertools.chain.from_iterable(d['missed_wavelength'].values)).value_counts()#.sort_index()\n",
    "b = a.copy().reset_index()\n",
    "b.sort_values(['count', 'index'], inplace=True)\n",
    "b.set_index('index', inplace=True)\n",
    "b.index = b.index.astype(str)\n",
    "b.index.name = 'missing_wavelength'\n",
    "px.scatter(b)"
   ]
  },
  {
   "cell_type": "code",
   "execution_count": null,
   "id": "9367cdc5-bafb-4de9-a64e-c5b9e5c1e4b4",
   "metadata": {},
   "outputs": [],
   "source": [
    "# b.to_csv('output/missing_wavelengths_train.csv')"
   ]
  },
  {
   "cell_type": "code",
   "execution_count": null,
   "id": "2dbf945e-35b6-4250-993e-33cd1712ec39",
   "metadata": {},
   "outputs": [],
   "source": [
    "# test set\n",
    "test = df[~df['label']]\n",
    "a = pd.Series(itertools.chain.from_iterable(test['missed_wavelength'].values)).value_counts()#.sort_index()\n",
    "b = a.copy().reset_index()\n",
    "b.sort_values(['count', 'index'], inplace=True)\n",
    "b.set_index('index', inplace=True)\n",
    "b.index = b.index.astype(str)\n",
    "b.index.name = 'missing_wavelength'\n",
    "px.scatter(b)"
   ]
  },
  {
   "cell_type": "code",
   "execution_count": null,
   "id": "a8df0ede-1970-4150-8f97-a2a671e44a6a",
   "metadata": {},
   "outputs": [],
   "source": [
    "# b.to_csv('output/missing_wavelengths_test.csv')"
   ]
  },
  {
   "cell_type": "code",
   "execution_count": null,
   "id": "7e2ee904-62d5-4494-a19e-c8db4791140b",
   "metadata": {},
   "outputs": [],
   "source": [
    "a = pd.Series(itertools.chain.from_iterable(df['missed_wavelength'].values)).value_counts()#.sort_index()\n",
    "b = a.copy().reset_index()\n",
    "b.sort_values(['count', 'index'], inplace=True)\n",
    "b.set_index('index', inplace=True)\n",
    "b.index = b.index.astype(str)\n",
    "b.index.name = 'missing_wavelength'\n",
    "px.scatter(b)"
   ]
  },
  {
   "cell_type": "code",
   "execution_count": null,
   "id": "5683aa60-c1d0-4631-806a-0eb50bb4a3ac",
   "metadata": {},
   "outputs": [],
   "source": [
    "# b.to_csv('output/missing_wavelengths.csv')"
   ]
  },
  {
   "cell_type": "code",
   "execution_count": null,
   "id": "7e999296-3008-4ad7-b3d7-90809b4f9165",
   "metadata": {},
   "outputs": [],
   "source": [
    "b = a.sort_index()\n",
    "b.index.name = 'missing_wavelength'\n",
    "px.bar(b)"
   ]
  },
  {
   "cell_type": "code",
   "execution_count": null,
   "id": "3fe257e7-a60e-42ea-9d13-94fba48931d8",
   "metadata": {},
   "outputs": [],
   "source": [
    "a.idxmin(), a.idxmax()"
   ]
  },
  {
   "cell_type": "code",
   "execution_count": null,
   "id": "5dcea3ec-cc61-4872-b3ed-916a052caece",
   "metadata": {},
   "outputs": [],
   "source": [
    "len(missing_list['660'])"
   ]
  },
  {
   "cell_type": "code",
   "execution_count": null,
   "id": "8fa441d9-b117-4835-99bf-e4c2c7cc6365",
   "metadata": {},
   "outputs": [],
   "source": [
    "a = d['missed_wavelength_len'].value_counts().sort_index()\n",
    "a.index = a.index.astype(str)\n",
    "px.bar(a, text_auto=True, width=650)"
   ]
  }
 ],
 "metadata": {
  "kernelspec": {
   "display_name": "Python 3 (ipykernel)",
   "language": "python",
   "name": "python3"
  },
  "language_info": {
   "codemirror_mode": {
    "name": "ipython",
    "version": 3
   },
   "file_extension": ".py",
   "mimetype": "text/x-python",
   "name": "python",
   "nbconvert_exporter": "python",
   "pygments_lexer": "ipython3",
   "version": "3.10.12"
  }
 },
 "nbformat": 4,
 "nbformat_minor": 5
}
